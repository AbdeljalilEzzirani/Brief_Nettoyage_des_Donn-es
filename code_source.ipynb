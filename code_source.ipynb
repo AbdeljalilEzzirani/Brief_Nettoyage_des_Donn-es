{
 "cells": [
  {
   "cell_type": "code",
   "execution_count": 153,
   "metadata": {
    "ExecuteTime": {
     "end_time": "2024-11-09T14:36:08.292694Z",
     "start_time": "2024-11-09T14:36:08.285663Z"
    }
   },
   "outputs": [],
   "source": [
    "import pandas as pd\n",
    "import numpy as np"
   ]
  },
  {
   "cell_type": "code",
   "execution_count": 154,
   "metadata": {
    "jupyter": {
     "is_executing": true
    }
   },
   "outputs": [],
   "source": [
    "data_frm = pd.read_csv('/home/abdeljalil/Desktop/youcode/Brief_Nettoyage_des_Donn-es/data_set.csv', encoding='latin1')\n",
    "data_frm = pd.DataFrame(data_frm)\n",
    "data_cpy = data_frm.copy()\n",
    "pd.set_option(\"display.max_columns\", None)\n",
    "# data_cpy"
   ]
  },
  {
   "cell_type": "code",
   "execution_count": 155,
   "metadata": {},
   "outputs": [],
   "source": [
    "# data_cpy.info()"
   ]
  },
  {
   "cell_type": "code",
   "execution_count": 156,
   "metadata": {},
   "outputs": [],
   "source": [
    "data_cpy['Price'] = data_cpy['Price'].apply(lambda X : np.nan if X == 'PRIX NON SPÃ\\x89CIFIÃ\\x89' else X)"
   ]
  },
  {
   "cell_type": "code",
   "execution_count": 157,
   "metadata": {},
   "outputs": [],
   "source": [
    "data_cpy['Price']=data_cpy['Price'].apply(lambda x : float(x.replace('Â', '').replace('DH', '').replace('\\xa0', '')) if isinstance(x, str) and 'Â' in x and 'DH' in x and '\\xa0' in x else x)"
   ]
  },
  {
   "cell_type": "code",
   "execution_count": 158,
   "metadata": {},
   "outputs": [],
   "source": [
    "data_cpy['Price'] = pd.to_numeric(data_cpy['Price'], errors='coerce')"
   ]
  },
  {
   "cell_type": "code",
   "execution_count": 159,
   "metadata": {},
   "outputs": [],
   "source": [
    "data_cpy['Localisation'] = data_cpy['Localisation'].str.lower()\n",
    "data_cpy['Secteur'] = data_cpy['Secteur'].str.lower()\n"
   ]
  },
  {
   "cell_type": "code",
   "execution_count": 160,
   "metadata": {},
   "outputs": [],
   "source": [
    "data_cpy['Chambre'] = data_cpy['Chambre'].apply(lambda X : '10' if X == '10+' else X)\n",
    "data_cpy['Chambre']=pd.to_numeric(data_cpy['Chambre'])"
   ]
  },
  {
   "cell_type": "code",
   "execution_count": 161,
   "metadata": {},
   "outputs": [],
   "source": [
    "age_cate={'Neuf' : 0, '1-5 ans': 1 ,'6-10 ans': 6 ,'11-20 ans' : 11, '21+ ans' : 21}\n",
    "data_cpy['Age de bien']=data_cpy['Age de bien'].map(age_cate)"
   ]
  },
  {
   "cell_type": "code",
   "execution_count": 198,
   "metadata": {},
   "outputs": [
    {
     "data": {
      "text/plain": [
       "array([ 5.,  2.,  3.,  1.,  8.,  4.,  0.,  6.,  7., nan])"
      ]
     },
     "execution_count": 198,
     "metadata": {},
     "output_type": "execute_result"
    }
   ],
   "source": [
    "data_cpy['Etage'] = data_cpy['Etage'].str.replace('7+', '7').str.replace('Rez de chaussÃ©e', '0')\n",
    "data_cpy['Etage'] = pd.to_numeric(data_cpy['Etage'])\n",
    "data_cpy['Etage'].unique()"
   ]
  },
  {
   "cell_type": "code",
   "execution_count": null,
   "metadata": {},
   "outputs": [
    {
     "data": {
      "text/plain": [
       "array(['vendre', 'louer', nan, 'location', 'demande'], dtype=object)"
      ]
     },
     "execution_count": 174,
     "metadata": {},
     "output_type": "execute_result"
    }
   ],
   "source": [
    "data_cpy['Type'] = data_cpy['Type'].str.lower()\n",
    "# data_cpy['Type'].unique()"
   ]
  },
  {
   "cell_type": "code",
   "execution_count": null,
   "metadata": {},
   "outputs": [
    {
     "data": {
      "text/html": [
       "<div>\n",
       "<style scoped>\n",
       "    .dataframe tbody tr th:only-of-type {\n",
       "        vertical-align: middle;\n",
       "    }\n",
       "\n",
       "    .dataframe tbody tr th {\n",
       "        vertical-align: top;\n",
       "    }\n",
       "\n",
       "    .dataframe thead th {\n",
       "        text-align: right;\n",
       "    }\n",
       "</style>\n",
       "<table border=\"1\" class=\"dataframe\">\n",
       "  <thead>\n",
       "    <tr style=\"text-align: right;\">\n",
       "      <th></th>\n",
       "      <th>Price</th>\n",
       "      <th>Chambre</th>\n",
       "      <th>Salle de bain</th>\n",
       "      <th>Salons</th>\n",
       "      <th>Surface habitable</th>\n",
       "      <th>Age de bien</th>\n",
       "      <th>Etage</th>\n",
       "      <th>Frais de syndic</th>\n",
       "    </tr>\n",
       "  </thead>\n",
       "  <tbody>\n",
       "    <tr>\n",
       "      <th>count</th>\n",
       "      <td>1.172000e+03</td>\n",
       "      <td>1465.000000</td>\n",
       "      <td>1465.000000</td>\n",
       "      <td>1432.000000</td>\n",
       "      <td>1440.000000</td>\n",
       "      <td>1183.000000</td>\n",
       "      <td>1459.000000</td>\n",
       "      <td>536.000000</td>\n",
       "    </tr>\n",
       "    <tr>\n",
       "      <th>mean</th>\n",
       "      <td>1.166683e+06</td>\n",
       "      <td>2.331058</td>\n",
       "      <td>2.023208</td>\n",
       "      <td>1.238827</td>\n",
       "      <td>96.690972</td>\n",
       "      <td>5.160609</td>\n",
       "      <td>2.240576</td>\n",
       "      <td>8052.272388</td>\n",
       "    </tr>\n",
       "    <tr>\n",
       "      <th>std</th>\n",
       "      <td>3.809706e+06</td>\n",
       "      <td>0.714046</td>\n",
       "      <td>7.409251</td>\n",
       "      <td>0.554709</td>\n",
       "      <td>84.233500</td>\n",
       "      <td>5.731550</td>\n",
       "      <td>1.532134</td>\n",
       "      <td>75242.521657</td>\n",
       "    </tr>\n",
       "    <tr>\n",
       "      <th>min</th>\n",
       "      <td>1.500000e+03</td>\n",
       "      <td>1.000000</td>\n",
       "      <td>0.000000</td>\n",
       "      <td>0.000000</td>\n",
       "      <td>1.000000</td>\n",
       "      <td>0.000000</td>\n",
       "      <td>0.000000</td>\n",
       "      <td>1.000000</td>\n",
       "    </tr>\n",
       "    <tr>\n",
       "      <th>25%</th>\n",
       "      <td>4.800000e+05</td>\n",
       "      <td>2.000000</td>\n",
       "      <td>1.000000</td>\n",
       "      <td>1.000000</td>\n",
       "      <td>65.000000</td>\n",
       "      <td>0.000000</td>\n",
       "      <td>1.000000</td>\n",
       "      <td>100.000000</td>\n",
       "    </tr>\n",
       "    <tr>\n",
       "      <th>50%</th>\n",
       "      <td>7.500000e+05</td>\n",
       "      <td>2.000000</td>\n",
       "      <td>1.000000</td>\n",
       "      <td>1.000000</td>\n",
       "      <td>84.000000</td>\n",
       "      <td>6.000000</td>\n",
       "      <td>2.000000</td>\n",
       "      <td>150.000000</td>\n",
       "    </tr>\n",
       "    <tr>\n",
       "      <th>75%</th>\n",
       "      <td>1.280000e+06</td>\n",
       "      <td>3.000000</td>\n",
       "      <td>2.000000</td>\n",
       "      <td>1.000000</td>\n",
       "      <td>110.000000</td>\n",
       "      <td>11.000000</td>\n",
       "      <td>3.000000</td>\n",
       "      <td>250.000000</td>\n",
       "    </tr>\n",
       "    <tr>\n",
       "      <th>max</th>\n",
       "      <td>1.250000e+08</td>\n",
       "      <td>10.000000</td>\n",
       "      <td>157.000000</td>\n",
       "      <td>8.000000</td>\n",
       "      <td>2111.000000</td>\n",
       "      <td>21.000000</td>\n",
       "      <td>8.000000</td>\n",
       "      <td>950000.000000</td>\n",
       "    </tr>\n",
       "  </tbody>\n",
       "</table>\n",
       "</div>"
      ],
      "text/plain": [
       "              Price      Chambre  Salle de bain       Salons  \\\n",
       "count  1.172000e+03  1465.000000    1465.000000  1432.000000   \n",
       "mean   1.166683e+06     2.331058       2.023208     1.238827   \n",
       "std    3.809706e+06     0.714046       7.409251     0.554709   \n",
       "min    1.500000e+03     1.000000       0.000000     0.000000   \n",
       "25%    4.800000e+05     2.000000       1.000000     1.000000   \n",
       "50%    7.500000e+05     2.000000       1.000000     1.000000   \n",
       "75%    1.280000e+06     3.000000       2.000000     1.000000   \n",
       "max    1.250000e+08    10.000000     157.000000     8.000000   \n",
       "\n",
       "       Surface habitable  Age de bien        Etage  Frais de syndic  \n",
       "count        1440.000000  1183.000000  1459.000000       536.000000  \n",
       "mean           96.690972     5.160609     2.240576      8052.272388  \n",
       "std            84.233500     5.731550     1.532134     75242.521657  \n",
       "min             1.000000     0.000000     0.000000         1.000000  \n",
       "25%            65.000000     0.000000     1.000000       100.000000  \n",
       "50%            84.000000     6.000000     2.000000       150.000000  \n",
       "75%           110.000000    11.000000     3.000000       250.000000  \n",
       "max          2111.000000    21.000000     8.000000    950000.000000  "
      ]
     },
     "execution_count": 214,
     "metadata": {},
     "output_type": "execute_result"
    }
   ],
   "source": [
    "data_cpy.describe()\n",
    "# Calculer les statistiques descriptives (moyenne, médiane, écart type) pour comprendre la distribution des données.\n",
    "# Si la différence entre la moyenne et la médiane est grande, cela indique une distribution asymétrique, influençant la méthode d’imputation à choisir."
   ]
  },
  {
   "cell_type": "code",
   "execution_count": 263,
   "metadata": {},
   "outputs": [
    {
     "data": {
      "text/plain": [
       "URL                    0\n",
       "Title                  0\n",
       "Localisation           0\n",
       "Price                293\n",
       "Chambre                0\n",
       "Salle de bain          0\n",
       "Type                   2\n",
       "Secteur                0\n",
       "Salons                33\n",
       "Surface habitable     25\n",
       "Age de bien          282\n",
       "Etage                  3\n",
       "Frais de syndic      929\n",
       "Ascenseur              0\n",
       "Balcon                 0\n",
       "Chauffage              0\n",
       "Climatisation          0\n",
       "Concierge              0\n",
       "Cuisine equipee        0\n",
       "Duplex                 0\n",
       "Meuble                 0\n",
       "Parking                0\n",
       "Securite               0\n",
       "Terrasse               0\n",
       "dtype: int64"
      ]
     },
     "execution_count": 263,
     "metadata": {},
     "output_type": "execute_result"
    }
   ],
   "source": [
    "data_cpy.isnull().sum()\n",
    "# missing_percentages = data_cpy.isnull().mean() * 100\n",
    "# missing_percentages\n",
    "# Mean: For columns with symmetric distributions where the mean and median are close.\n",
    "# Median: For columns with right-skewed distributions (where the mean is much higher than the median)."
   ]
  },
  {
   "cell_type": "code",
   "execution_count": 319,
   "metadata": {},
   "outputs": [
    {
     "data": {
      "text/html": [
       "<div>\n",
       "<style scoped>\n",
       "    .dataframe tbody tr th:only-of-type {\n",
       "        vertical-align: middle;\n",
       "    }\n",
       "\n",
       "    .dataframe tbody tr th {\n",
       "        vertical-align: top;\n",
       "    }\n",
       "\n",
       "    .dataframe thead th {\n",
       "        text-align: right;\n",
       "    }\n",
       "</style>\n",
       "<table border=\"1\" class=\"dataframe\">\n",
       "  <thead>\n",
       "    <tr style=\"text-align: right;\">\n",
       "      <th></th>\n",
       "      <th>URL</th>\n",
       "      <th>Title</th>\n",
       "      <th>Localisation</th>\n",
       "      <th>Price</th>\n",
       "      <th>Chambre</th>\n",
       "      <th>Salle de bain</th>\n",
       "      <th>Type</th>\n",
       "      <th>Secteur</th>\n",
       "      <th>Salons</th>\n",
       "      <th>Surface habitable</th>\n",
       "      <th>Age de bien</th>\n",
       "      <th>Etage</th>\n",
       "      <th>Frais de syndic</th>\n",
       "      <th>Ascenseur</th>\n",
       "      <th>Balcon</th>\n",
       "      <th>Chauffage</th>\n",
       "      <th>Climatisation</th>\n",
       "      <th>Concierge</th>\n",
       "      <th>Cuisine equipee</th>\n",
       "      <th>Duplex</th>\n",
       "      <th>Meuble</th>\n",
       "      <th>Parking</th>\n",
       "      <th>Securite</th>\n",
       "      <th>Terrasse</th>\n",
       "    </tr>\n",
       "  </thead>\n",
       "  <tbody>\n",
       "  </tbody>\n",
       "</table>\n",
       "</div>"
      ],
      "text/plain": [
       "Empty DataFrame\n",
       "Columns: [URL, Title, Localisation, Price, Chambre, Salle de bain, Type, Secteur, Salons, Surface habitable, Age de bien, Etage, Frais de syndic, Ascenseur, Balcon, Chauffage, Climatisation, Concierge, Cuisine equipee, Duplex, Meuble, Parking, Securite, Terrasse]\n",
       "Index: []"
      ]
     },
     "execution_count": 319,
     "metadata": {},
     "output_type": "execute_result"
    }
   ],
   "source": [
    "# data_cpy['Etage'].isna()\n",
    "data_cpy[data_cpy['Etage'].isna()]\n"
   ]
  },
  {
   "cell_type": "code",
   "execution_count": 239,
   "metadata": {},
   "outputs": [],
   "source": [
    "df_kech=data_cpy[data_cpy['Localisation']=='marrakech']\n",
    "kech_secteur=df_kech[df_kech['Secteur']=='targa']\n",
    "mode_kech=kech_secteur['Etage'].mode()\n",
    "data_cpy['Etage'] =np.where(\n",
    "    (data_cpy['Localisation']=='marrakech') & (data_cpy['Etage'].isna()),\n",
    "    mode_kech , data_cpy['Etage']\n",
    ")\n"
   ]
  },
  {
   "cell_type": "code",
   "execution_count": 251,
   "metadata": {},
   "outputs": [],
   "source": [
    "df_knitra=data_cpy[data_cpy['Localisation']=='kã©nitra']\n",
    "knitra_secteur = df_knitra[df_knitra['Secteur']=='centre']\n",
    "med_knitra = knitra_secteur['Etage'].median()\n",
    "\n",
    "data_cpy['Etage']=np.where(\n",
    "    (data_cpy['Localisation']=='kã©nitra') & (data_cpy['Etage'].isna()) , \n",
    "    med_knitra , data_cpy['Etage']\n",
    ")\n",
    "\n"
   ]
  },
  {
   "cell_type": "code",
   "execution_count": 261,
   "metadata": {},
   "outputs": [],
   "source": [
    "\n",
    "df_casa=data_cpy[data_cpy['Localisation']=='casablanca']\n",
    "casa_secteur = df_casa[df_casa['Secteur']=='californie']\n",
    "mode_cas=casa_secteur['Etage'].mode()\n",
    "\n",
    "data_cpy['Etage'] = np.where(\n",
    "    (data_cpy['Localisation']=='casablanca') & (data_cpy['Etage'].isna()),\n",
    "    mode_cas, data_cpy['Etage']\n",
    ")"
   ]
  },
  {
   "cell_type": "code",
   "execution_count": 289,
   "metadata": {},
   "outputs": [],
   "source": [
    "df_boznika = data_cpy[data_cpy['Localisation'] == 'bouznika']\n",
    "secteur_bouznika = df_boznika[df_boznika['Secteur'] == 'autre secteur']\n",
    "mode_bouznika = secteur_bouznika['Etage'].mode()\n",
    "data_cpy['Etage'] = np.where((data_cpy['Localisation'] == 'bouznika') & (data_cpy['Etage'].isna()), mode_bouznika, data_cpy['Etage'])"
   ]
  },
  {
   "cell_type": "code",
   "execution_count": 300,
   "metadata": {},
   "outputs": [],
   "source": [
    "df_jadida = data_cpy[data_cpy['Localisation'] == 'el jadida']\n",
    "secteur_jedida = df_jadida[df_jadida['Secteur'] == 'quartier aã©rodrome']\n",
    "mean_jadida = secteur_jedida['Etage'].mean()\n",
    "data_cpy['Etage'] = np.where((data_cpy['Localisation'] == 'el jadida') & (data_cpy['Etage'].isna()), mean_jadida, data_cpy['Etage'])"
   ]
  },
  {
   "cell_type": "code",
   "execution_count": 318,
   "metadata": {},
   "outputs": [
    {
     "data": {
      "text/html": [
       "<div>\n",
       "<style scoped>\n",
       "    .dataframe tbody tr th:only-of-type {\n",
       "        vertical-align: middle;\n",
       "    }\n",
       "\n",
       "    .dataframe tbody tr th {\n",
       "        vertical-align: top;\n",
       "    }\n",
       "\n",
       "    .dataframe thead th {\n",
       "        text-align: right;\n",
       "    }\n",
       "</style>\n",
       "<table border=\"1\" class=\"dataframe\">\n",
       "  <thead>\n",
       "    <tr style=\"text-align: right;\">\n",
       "      <th></th>\n",
       "      <th>URL</th>\n",
       "      <th>Title</th>\n",
       "      <th>Localisation</th>\n",
       "      <th>Price</th>\n",
       "      <th>Chambre</th>\n",
       "      <th>Salle de bain</th>\n",
       "      <th>Type</th>\n",
       "      <th>Secteur</th>\n",
       "      <th>Salons</th>\n",
       "      <th>Surface habitable</th>\n",
       "      <th>Age de bien</th>\n",
       "      <th>Etage</th>\n",
       "      <th>Frais de syndic</th>\n",
       "      <th>Ascenseur</th>\n",
       "      <th>Balcon</th>\n",
       "      <th>Chauffage</th>\n",
       "      <th>Climatisation</th>\n",
       "      <th>Concierge</th>\n",
       "      <th>Cuisine equipee</th>\n",
       "      <th>Duplex</th>\n",
       "      <th>Meuble</th>\n",
       "      <th>Parking</th>\n",
       "      <th>Securite</th>\n",
       "      <th>Terrasse</th>\n",
       "    </tr>\n",
       "  </thead>\n",
       "  <tbody>\n",
       "  </tbody>\n",
       "</table>\n",
       "</div>"
      ],
      "text/plain": [
       "Empty DataFrame\n",
       "Columns: [URL, Title, Localisation, Price, Chambre, Salle de bain, Type, Secteur, Salons, Surface habitable, Age de bien, Etage, Frais de syndic, Ascenseur, Balcon, Chauffage, Climatisation, Concierge, Cuisine equipee, Duplex, Meuble, Parking, Securite, Terrasse]\n",
       "Index: []"
      ]
     },
     "execution_count": 318,
     "metadata": {},
     "output_type": "execute_result"
    }
   ],
   "source": [
    "df_fquih_bensaleh = data_cpy[data_cpy['Localisation'] == 'fquih ben saleh']\n",
    "secteur_fqih = df_fquih_bensaleh[df_fquih_bensaleh['Secteur'] == 'toute la ville']\n",
    "data_cpy = data_cpy[data_cpy['Localisation'] != 'fquih ben saleh']\n",
    "df_fquih_bensaleh"
   ]
  },
  {
   "cell_type": "code",
   "execution_count": null,
   "metadata": {},
   "outputs": [],
   "source": []
  },
  {
   "cell_type": "code",
   "execution_count": null,
   "metadata": {},
   "outputs": [],
   "source": []
  },
  {
   "cell_type": "code",
   "execution_count": null,
   "metadata": {},
   "outputs": [],
   "source": []
  },
  {
   "cell_type": "code",
   "execution_count": null,
   "metadata": {},
   "outputs": [],
   "source": []
  },
  {
   "cell_type": "code",
   "execution_count": null,
   "metadata": {},
   "outputs": [],
   "source": []
  },
  {
   "cell_type": "code",
   "execution_count": null,
   "metadata": {},
   "outputs": [],
   "source": []
  },
  {
   "cell_type": "code",
   "execution_count": null,
   "metadata": {},
   "outputs": [],
   "source": []
  },
  {
   "cell_type": "code",
   "execution_count": null,
   "metadata": {},
   "outputs": [],
   "source": []
  }
 ],
 "metadata": {
  "kernelspec": {
   "display_name": "Python 3",
   "language": "python",
   "name": "python3"
  },
  "language_info": {
   "codemirror_mode": {
    "name": "ipython",
    "version": 3
   },
   "file_extension": ".py",
   "mimetype": "text/x-python",
   "name": "python",
   "nbconvert_exporter": "python",
   "pygments_lexer": "ipython3",
   "version": "3.12.3"
  }
 },
 "nbformat": 4,
 "nbformat_minor": 2
}
